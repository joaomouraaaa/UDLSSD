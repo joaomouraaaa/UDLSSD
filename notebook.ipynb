{
 "cells": [
  {
   "cell_type": "code",
   "execution_count": null,
   "id": "8c8669b6",
   "metadata": {},
   "outputs": [],
   "source": [
    "!python3 CycleGAN/code/main_cycle_gan.py"
   ]
  },
  {
   "cell_type": "code",
   "execution_count": null,
   "id": "deaa0e54",
   "metadata": {},
   "outputs": [],
   "source": [
    "!python3 CycleGAN/code/generate_predictions.py"
   ]
  },
  {
   "cell_type": "code",
   "execution_count": null,
   "id": "063f6382",
   "metadata": {},
   "outputs": [],
   "source": [
    "!python3 UDSEP/code/DSEP_transformation.py"
   ]
  },
  {
   "cell_type": "code",
   "execution_count": null,
   "id": "ea216e29",
   "metadata": {},
   "outputs": [],
   "source": [
    "!python3 UDSEP/code/main_unet.py"
   ]
  },
  {
   "cell_type": "code",
   "execution_count": null,
   "id": "6f0cb523",
   "metadata": {},
   "outputs": [],
   "source": [
    "!python3 utils/test_results.py cyclegan g_model_AtoB_016894.h5"
   ]
  },
  {
   "cell_type": "code",
   "execution_count": null,
   "id": "6465dbc4",
   "metadata": {},
   "outputs": [],
   "source": [
    "!python3 utils/evaluate.py"
   ]
  }
 ],
 "metadata": {
  "kernelspec": {
   "display_name": "Python 3 (ipykernel)",
   "language": "python",
   "name": "python3"
  },
  "language_info": {
   "codemirror_mode": {
    "name": "ipython",
    "version": 3
   },
   "file_extension": ".py",
   "mimetype": "text/x-python",
   "name": "python",
   "nbconvert_exporter": "python",
   "pygments_lexer": "ipython3",
   "version": "3.8.13"
  }
 },
 "nbformat": 4,
 "nbformat_minor": 5
}
