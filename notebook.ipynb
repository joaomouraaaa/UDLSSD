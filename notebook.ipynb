{
 "cells": [
  {
   "cell_type": "code",
   "execution_count": 24,
   "id": "00b9a999",
   "metadata": {},
   "outputs": [
    {
     "name": "stdout",
     "output_type": "stream",
     "text": [
      "Metal device set to: Apple M1 Pro\n",
      "\n",
      "systemMemory: 16.00 GB\n",
      "maxCacheSize: 5.33 GB\n",
      "\n",
      "2023-05-29 17:48:54.033224: I tensorflow/core/common_runtime/pluggable_device/pluggable_device_factory.cc:305] Could not identify NUMA node of platform GPU ID 0, defaulting to 0. Your kernel may not have been built with NUMA support.\n",
      "2023-05-29 17:48:54.033512: I tensorflow/core/common_runtime/pluggable_device/pluggable_device_factory.cc:271] Created TensorFlow device (/job:localhost/replica:0/task:0/device:GPU:0 with 0 MB memory) -> physical PluggableDevice (device: 0, name: METAL, pci bus id: <undefined>)\n",
      "WARNING:tensorflow:No training configuration found in the save file, so the model was *not* compiled. Compile it manually.\n",
      "2023-05-29 17:48:54.930500: W tensorflow/core/platform/profile_utils/cpu_utils.cc:128] Failed to get CPU frequency: 0 Hz\n",
      "2023-05-29 17:48:55.155282: I tensorflow/core/grappler/optimizers/custom_graph_optimizer_registry.cc:113] Plugin optimizer for device_type GPU is enabled.\n"
     ]
    }
   ],
   "source": [
    "!python3 CycleGAN/code/main_cycle_gan.py"
   ]
  },
  {
   "cell_type": "code",
   "execution_count": null,
   "id": "1df9bed7",
   "metadata": {},
   "outputs": [],
   "source": [
    "!python3 CycleGAN/code/generate_predictions.py"
   ]
  },
  {
   "cell_type": "code",
   "execution_count": 26,
   "id": "0cf646b4",
   "metadata": {},
   "outputs": [],
   "source": [
    "!python3 UDSEP/code/DSEP_transformation.py"
   ]
  },
  {
   "cell_type": "code",
   "execution_count": null,
   "id": "d04bbbe8",
   "metadata": {},
   "outputs": [],
   "source": [
    "!python3 UDSEP/code/main_unet.py"
   ]
  },
  {
   "cell_type": "code",
   "execution_count": 57,
   "id": "bfe601a1",
   "metadata": {},
   "outputs": [
    {
     "name": "stdout",
     "output_type": "stream",
     "text": [
      "Metal device set to: Apple M1 Pro\n",
      "\n",
      "systemMemory: 16.00 GB\n",
      "maxCacheSize: 5.33 GB\n",
      "\n",
      "2023-05-29 20:54:04.041554: I tensorflow/core/common_runtime/pluggable_device/pluggable_device_factory.cc:305] Could not identify NUMA node of platform GPU ID 0, defaulting to 0. Your kernel may not have been built with NUMA support.\n",
      "2023-05-29 20:54:04.041648: I tensorflow/core/common_runtime/pluggable_device/pluggable_device_factory.cc:271] Created TensorFlow device (/job:localhost/replica:0/task:0/device:GPU:0 with 0 MB memory) -> physical PluggableDevice (device: 0, name: METAL, pci bus id: <undefined>)\n",
      "WARNING:tensorflow:No training configuration found in the save file, so the model was *not* compiled. Compile it manually.\n",
      "2023-05-29 20:54:04.719969: W tensorflow/core/platform/profile_utils/cpu_utils.cc:128] Failed to get CPU frequency: 0 Hz\n",
      "2023-05-29 20:54:05.004319: I tensorflow/core/grappler/optimizers/custom_graph_optimizer_registry.cc:113] Plugin optimizer for device_type GPU is enabled.\n",
      "data/test/test_results.py:137: RuntimeWarning: More than 20 figures have been opened. Figures created through the pyplot interface (`matplotlib.pyplot.figure`) are retained until explicitly closed and may consume too much memory. (To control this warning, see the rcParam `figure.max_open_warning`).\n",
      "  plt.figure()\n",
      "^C\n",
      "Traceback (most recent call last):\n",
      "  File \"data/test/test_results.py\", line 101, in <module>\n",
      "    B_generated  = model.predict(img)\n",
      "  File \"/Users/joaomoura/miniforge3/envs/mlp/lib/python3.8/site-packages/keras/utils/traceback_utils.py\", line 64, in error_handler\n",
      "    return fn(*args, **kwargs)\n",
      "  File \"/Users/joaomoura/miniforge3/envs/mlp/lib/python3.8/site-packages/keras/engine/training.py\", line 2012, in predict\n",
      "    return tf_utils.sync_to_numpy_or_python_type(all_outputs)\n",
      "  File \"/Users/joaomoura/miniforge3/envs/mlp/lib/python3.8/site-packages/keras/utils/tf_utils.py\", line 563, in sync_to_numpy_or_python_type\n",
      "    return tf.nest.map_structure(_to_single_numpy_or_python_type, tensors)\n",
      "  File \"/Users/joaomoura/miniforge3/envs/mlp/lib/python3.8/site-packages/tensorflow/python/util/nest.py\", line 914, in map_structure\n",
      "    structure[0], [func(*x) for x in entries],\n",
      "  File \"/Users/joaomoura/miniforge3/envs/mlp/lib/python3.8/site-packages/tensorflow/python/util/nest.py\", line 914, in <listcomp>\n",
      "    structure[0], [func(*x) for x in entries],\n",
      "  File \"/Users/joaomoura/miniforge3/envs/mlp/lib/python3.8/site-packages/keras/utils/tf_utils.py\", line 557, in _to_single_numpy_or_python_type\n",
      "    t = t.numpy()\n",
      "  File \"/Users/joaomoura/miniforge3/envs/mlp/lib/python3.8/site-packages/tensorflow/python/framework/ops.py\", line 1223, in numpy\n",
      "    maybe_arr = self._numpy()  # pylint: disable=protected-access\n",
      "  File \"/Users/joaomoura/miniforge3/envs/mlp/lib/python3.8/site-packages/tensorflow/python/framework/ops.py\", line 1189, in _numpy\n",
      "    return self._numpy_internal()\n",
      "KeyboardInterrupt\n"
     ]
    }
   ],
   "source": [
    "!python3 data/test/test_results.py cyclegan g_model_AtoB_016894.h5"
   ]
  },
  {
   "cell_type": "code",
   "execution_count": null,
   "id": "66cab697",
   "metadata": {},
   "outputs": [],
   "source": []
  }
 ],
 "metadata": {
  "kernelspec": {
   "display_name": "Python 3 (ipykernel)",
   "language": "python",
   "name": "python3"
  },
  "language_info": {
   "codemirror_mode": {
    "name": "ipython",
    "version": 3
   },
   "file_extension": ".py",
   "mimetype": "text/x-python",
   "name": "python",
   "nbconvert_exporter": "python",
   "pygments_lexer": "ipython3",
   "version": "3.8.13"
  }
 },
 "nbformat": 4,
 "nbformat_minor": 5
}
